{
 "cells": [
  {
   "cell_type": "code",
   "execution_count": 1,
   "metadata": {
    "ExecuteTime": {
     "end_time": "2019-11-07T13:32:24.676611Z",
     "start_time": "2019-11-07T13:32:21.923082Z"
    }
   },
   "outputs": [],
   "source": [
    "import pandas as pd"
   ]
  },
  {
   "cell_type": "code",
   "execution_count": 2,
   "metadata": {
    "ExecuteTime": {
     "end_time": "2019-11-07T13:32:24.883320Z",
     "start_time": "2019-11-07T13:32:24.688519Z"
    }
   },
   "outputs": [],
   "source": [
    "data = pd.read_csv('dados_clima.csv', sep=';')"
   ]
  },
  {
   "cell_type": "code",
   "execution_count": 3,
   "metadata": {
    "ExecuteTime": {
     "end_time": "2019-11-07T13:32:32.975583Z",
     "start_time": "2019-11-07T13:32:32.937084Z"
    }
   },
   "outputs": [
    {
     "data": {
      "text/plain": [
       "array([82598])"
      ]
     },
     "execution_count": 3,
     "metadata": {},
     "output_type": "execute_result"
    }
   ],
   "source": [
    "data['Estacao'].unique()"
   ]
  },
  {
   "cell_type": "code",
   "execution_count": 7,
   "metadata": {},
   "outputs": [
    {
     "data": {
      "text/html": [
       "<div>\n",
       "<style scoped>\n",
       "    .dataframe tbody tr th:only-of-type {\n",
       "        vertical-align: middle;\n",
       "    }\n",
       "\n",
       "    .dataframe tbody tr th {\n",
       "        vertical-align: top;\n",
       "    }\n",
       "\n",
       "    .dataframe thead th {\n",
       "        text-align: right;\n",
       "    }\n",
       "</style>\n",
       "<table border=\"1\" class=\"dataframe\">\n",
       "  <thead>\n",
       "    <tr style=\"text-align: right;\">\n",
       "      <th></th>\n",
       "      <th>Estacao</th>\n",
       "      <th>Data</th>\n",
       "      <th>Hora</th>\n",
       "      <th>Precipitacao</th>\n",
       "      <th>TempBulboSeco</th>\n",
       "      <th>TempBulboUmido</th>\n",
       "      <th>TempMaxima</th>\n",
       "      <th>TempMinima</th>\n",
       "      <th>UmidadeRelativa</th>\n",
       "      <th>PressaoAtmEstacao</th>\n",
       "      <th>PressaoAtmMar</th>\n",
       "      <th>DirecaoVento</th>\n",
       "      <th>VelocidadeVento</th>\n",
       "      <th>Insolação</th>\n",
       "      <th>Nebulosidade</th>\n",
       "      <th>Evaporacao Piche</th>\n",
       "      <th>Temp Comp Media</th>\n",
       "      <th>Umidade Relativa Media</th>\n",
       "      <th>Velocidade do Vento Media</th>\n",
       "    </tr>\n",
       "  </thead>\n",
       "  <tbody>\n",
       "    <tr>\n",
       "      <td>0</td>\n",
       "      <td>82598</td>\n",
       "      <td>01/01/1961</td>\n",
       "      <td>0</td>\n",
       "      <td>NaN</td>\n",
       "      <td>NaN</td>\n",
       "      <td>NaN</td>\n",
       "      <td>30.4</td>\n",
       "      <td>NaN</td>\n",
       "      <td>NaN</td>\n",
       "      <td>NaN</td>\n",
       "      <td>NaN</td>\n",
       "      <td>NaN</td>\n",
       "      <td>NaN</td>\n",
       "      <td>11.7</td>\n",
       "      <td>NaN</td>\n",
       "      <td>10.6</td>\n",
       "      <td>27.30</td>\n",
       "      <td>68.75</td>\n",
       "      <td>7.0</td>\n",
       "    </tr>\n",
       "    <tr>\n",
       "      <td>1</td>\n",
       "      <td>82598</td>\n",
       "      <td>01/01/1961</td>\n",
       "      <td>1200</td>\n",
       "      <td>NaN</td>\n",
       "      <td>28.4</td>\n",
       "      <td>23.4</td>\n",
       "      <td>NaN</td>\n",
       "      <td>24.5</td>\n",
       "      <td>64.0</td>\n",
       "      <td>1010.8</td>\n",
       "      <td>NaN</td>\n",
       "      <td>9.0</td>\n",
       "      <td>9.0</td>\n",
       "      <td>NaN</td>\n",
       "      <td>4.0</td>\n",
       "      <td>NaN</td>\n",
       "      <td>NaN</td>\n",
       "      <td>NaN</td>\n",
       "      <td>NaN</td>\n",
       "    </tr>\n",
       "    <tr>\n",
       "      <td>2</td>\n",
       "      <td>82598</td>\n",
       "      <td>01/01/1961</td>\n",
       "      <td>1800</td>\n",
       "      <td>NaN</td>\n",
       "      <td>28.8</td>\n",
       "      <td>24.5</td>\n",
       "      <td>NaN</td>\n",
       "      <td>NaN</td>\n",
       "      <td>69.0</td>\n",
       "      <td>1008.0</td>\n",
       "      <td>NaN</td>\n",
       "      <td>9.0</td>\n",
       "      <td>5.0</td>\n",
       "      <td>NaN</td>\n",
       "      <td>2.0</td>\n",
       "      <td>NaN</td>\n",
       "      <td>NaN</td>\n",
       "      <td>NaN</td>\n",
       "      <td>NaN</td>\n",
       "    </tr>\n",
       "    <tr>\n",
       "      <td>3</td>\n",
       "      <td>82598</td>\n",
       "      <td>02/01/1961</td>\n",
       "      <td>0</td>\n",
       "      <td>NaN</td>\n",
       "      <td>26.6</td>\n",
       "      <td>22.8</td>\n",
       "      <td>30.3</td>\n",
       "      <td>NaN</td>\n",
       "      <td>71.0</td>\n",
       "      <td>1010.7</td>\n",
       "      <td>NaN</td>\n",
       "      <td>9.0</td>\n",
       "      <td>7.0</td>\n",
       "      <td>7.0</td>\n",
       "      <td>2.0</td>\n",
       "      <td>8.6</td>\n",
       "      <td>26.74</td>\n",
       "      <td>74.00</td>\n",
       "      <td>7.0</td>\n",
       "    </tr>\n",
       "    <tr>\n",
       "      <td>4</td>\n",
       "      <td>82598</td>\n",
       "      <td>02/01/1961</td>\n",
       "      <td>1200</td>\n",
       "      <td>0.0</td>\n",
       "      <td>26.2</td>\n",
       "      <td>23.8</td>\n",
       "      <td>NaN</td>\n",
       "      <td>24.4</td>\n",
       "      <td>81.0</td>\n",
       "      <td>1011.6</td>\n",
       "      <td>NaN</td>\n",
       "      <td>9.0</td>\n",
       "      <td>5.0</td>\n",
       "      <td>NaN</td>\n",
       "      <td>10.0</td>\n",
       "      <td>NaN</td>\n",
       "      <td>NaN</td>\n",
       "      <td>NaN</td>\n",
       "      <td>NaN</td>\n",
       "    </tr>\n",
       "  </tbody>\n",
       "</table>\n",
       "</div>"
      ],
      "text/plain": [
       "   Estacao        Data  Hora  Precipitacao  TempBulboSeco  TempBulboUmido  \\\n",
       "0    82598  01/01/1961     0           NaN            NaN             NaN   \n",
       "1    82598  01/01/1961  1200           NaN           28.4            23.4   \n",
       "2    82598  01/01/1961  1800           NaN           28.8            24.5   \n",
       "3    82598  02/01/1961     0           NaN           26.6            22.8   \n",
       "4    82598  02/01/1961  1200           0.0           26.2            23.8   \n",
       "\n",
       "   TempMaxima  TempMinima  UmidadeRelativa  PressaoAtmEstacao  PressaoAtmMar  \\\n",
       "0        30.4         NaN              NaN                NaN            NaN   \n",
       "1         NaN        24.5             64.0             1010.8            NaN   \n",
       "2         NaN         NaN             69.0             1008.0            NaN   \n",
       "3        30.3         NaN             71.0             1010.7            NaN   \n",
       "4         NaN        24.4             81.0             1011.6            NaN   \n",
       "\n",
       "   DirecaoVento  VelocidadeVento  Insolação  Nebulosidade  Evaporacao Piche  \\\n",
       "0           NaN              NaN       11.7           NaN              10.6   \n",
       "1           9.0              9.0        NaN           4.0               NaN   \n",
       "2           9.0              5.0        NaN           2.0               NaN   \n",
       "3           9.0              7.0        7.0           2.0               8.6   \n",
       "4           9.0              5.0        NaN          10.0               NaN   \n",
       "\n",
       "   Temp Comp Media  Umidade Relativa Media  Velocidade do Vento Media  \n",
       "0            27.30                   68.75                        7.0  \n",
       "1              NaN                     NaN                        NaN  \n",
       "2              NaN                     NaN                        NaN  \n",
       "3            26.74                   74.00                        7.0  \n",
       "4              NaN                     NaN                        NaN  "
      ]
     },
     "execution_count": 7,
     "metadata": {},
     "output_type": "execute_result"
    }
   ],
   "source": [
    "data.head()"
   ]
  },
  {
   "cell_type": "code",
   "execution_count": 8,
   "metadata": {
    "scrolled": false
   },
   "outputs": [
    {
     "name": "stdout",
     "output_type": "stream",
     "text": [
      "<class 'pandas.core.frame.DataFrame'>\n",
      "RangeIndex: 48591 entries, 0 to 48590\n",
      "Data columns (total 19 columns):\n",
      "Estacao                      48591 non-null int64\n",
      "Data                         48591 non-null object\n",
      "Hora                         48591 non-null int64\n",
      "Precipitacao                 16227 non-null float64\n",
      "TempBulboSeco                46996 non-null float64\n",
      "TempBulboUmido               46926 non-null float64\n",
      "TempMaxima                   15960 non-null float64\n",
      "TempMinima                   16153 non-null float64\n",
      "UmidadeRelativa              46527 non-null float64\n",
      "PressaoAtmEstacao            47010 non-null float64\n",
      "PressaoAtmMar                19680 non-null float64\n",
      "DirecaoVento                 47029 non-null float64\n",
      "VelocidadeVento              46973 non-null float64\n",
      "Insolação                    15780 non-null float64\n",
      "Nebulosidade                 48101 non-null float64\n",
      "Evaporacao Piche             15413 non-null float64\n",
      "Temp Comp Media              15361 non-null float64\n",
      "Umidade Relativa Media       15380 non-null float64\n",
      "Velocidade do Vento Media    15698 non-null float64\n",
      "dtypes: float64(16), int64(2), object(1)\n",
      "memory usage: 7.0+ MB\n"
     ]
    }
   ],
   "source": [
    "data.info()"
   ]
  },
  {
   "cell_type": "code",
   "execution_count": 40,
   "metadata": {
    "scrolled": true
   },
   "outputs": [
    {
     "name": "stdout",
     "output_type": "stream",
     "text": [
      "-- Valores NaN --\n",
      "Precipitacao: 32364 (66.60492683830338%)\n",
      "TempMaxima: 32631 (67.15441131073656%)\n",
      "TempMinima: 32438 (66.75721841493281%)\n",
      "PressaoAtmMar: 28911 (59.49867259369019%)\n",
      "Insolação: 32811 (67.52485028091623%)\n",
      "Evaporacao Piche: 33178 (68.28013418122697%)\n",
      "Temp Comp Media: 33230 (68.38714988372332%)\n",
      "Umidade Relativa Media: 33211 (68.34804799242659%)\n",
      "Velocidade do Vento Media: 32893 (67.69360581177584%)\n"
     ]
    }
   ],
   "source": [
    "na_sum = data.isna().sum()\n",
    "columns_no = []\n",
    "\n",
    "print('-- Valores NaN --')\n",
    "for key in na_sum.keys():\n",
    "    na_per = (na_sum[key]*100)/data.shape[0]\n",
    "    if na_per > 10.0:\n",
    "        columns_no.append(key)\n",
    "        print(\"{}: {} ({}%)\".format(key, na_sum[key], na_per))"
   ]
  },
  {
   "cell_type": "code",
   "execution_count": 41,
   "metadata": {
    "scrolled": true
   },
   "outputs": [
    {
     "name": "stdout",
     "output_type": "stream",
     "text": [
      "-- Valores NaN --\n",
      "Estacao: 0 (0.0%)\n",
      "Data: 0 (0.0%)\n",
      "Hora: 0 (0.0%)\n",
      "TempBulboSeco: 1595 (3.2825008746475683%)\n",
      "TempBulboUmido: 1665 (3.426560474161882%)\n",
      "UmidadeRelativa: 2064 (4.247700191393468%)\n",
      "PressaoAtmEstacao: 1581 (3.253688954744706%)\n",
      "DirecaoVento: 1562 (3.2145870634479636%)\n",
      "VelocidadeVento: 1618 (3.3298347430594144%)\n",
      "Nebulosidade: 490 (1.0084171966001934%)\n"
     ]
    }
   ],
   "source": [
    "na_sum = data.isna().sum()\n",
    "columns_yes = []\n",
    "\n",
    "print('-- Valores NaN --')\n",
    "for key in na_sum.keys():\n",
    "    na_per = (na_sum[key]*100)/data.shape[0]\n",
    "    if na_per < 10.0:\n",
    "        columns_yes.append(key)\n",
    "        print(\"{}: {} ({}%)\".format(key, na_sum[key], na_per))"
   ]
  },
  {
   "cell_type": "code",
   "execution_count": 50,
   "metadata": {},
   "outputs": [
    {
     "data": {
      "text/html": [
       "<div>\n",
       "<style scoped>\n",
       "    .dataframe tbody tr th:only-of-type {\n",
       "        vertical-align: middle;\n",
       "    }\n",
       "\n",
       "    .dataframe tbody tr th {\n",
       "        vertical-align: top;\n",
       "    }\n",
       "\n",
       "    .dataframe thead th {\n",
       "        text-align: right;\n",
       "    }\n",
       "</style>\n",
       "<table border=\"1\" class=\"dataframe\">\n",
       "  <thead>\n",
       "    <tr style=\"text-align: right;\">\n",
       "      <th></th>\n",
       "      <th>DirecaoVento</th>\n",
       "      <th>VelocidadeVento</th>\n",
       "    </tr>\n",
       "  </thead>\n",
       "  <tbody>\n",
       "    <tr>\n",
       "      <td>Hora</td>\n",
       "      <td>0.034426</td>\n",
       "      <td>0.312860</td>\n",
       "    </tr>\n",
       "    <tr>\n",
       "      <td>TempBulboSeco</td>\n",
       "      <td>-0.107982</td>\n",
       "      <td>0.283498</td>\n",
       "    </tr>\n",
       "    <tr>\n",
       "      <td>TempBulboUmido</td>\n",
       "      <td>-0.112009</td>\n",
       "      <td>-0.018274</td>\n",
       "    </tr>\n",
       "    <tr>\n",
       "      <td>UmidadeRelativa</td>\n",
       "      <td>0.023834</td>\n",
       "      <td>-0.427727</td>\n",
       "    </tr>\n",
       "    <tr>\n",
       "      <td>PressaoAtmEstacao</td>\n",
       "      <td>0.182315</td>\n",
       "      <td>0.151287</td>\n",
       "    </tr>\n",
       "    <tr>\n",
       "      <td>DirecaoVento</td>\n",
       "      <td>1.000000</td>\n",
       "      <td>0.232397</td>\n",
       "    </tr>\n",
       "    <tr>\n",
       "      <td>VelocidadeVento</td>\n",
       "      <td>0.232397</td>\n",
       "      <td>1.000000</td>\n",
       "    </tr>\n",
       "    <tr>\n",
       "      <td>Nebulosidade</td>\n",
       "      <td>0.139336</td>\n",
       "      <td>-0.029428</td>\n",
       "    </tr>\n",
       "  </tbody>\n",
       "</table>\n",
       "</div>"
      ],
      "text/plain": [
       "                   DirecaoVento  VelocidadeVento\n",
       "Hora                   0.034426         0.312860\n",
       "TempBulboSeco         -0.107982         0.283498\n",
       "TempBulboUmido        -0.112009        -0.018274\n",
       "UmidadeRelativa        0.023834        -0.427727\n",
       "PressaoAtmEstacao      0.182315         0.151287\n",
       "DirecaoVento           1.000000         0.232397\n",
       "VelocidadeVento        0.232397         1.000000\n",
       "Nebulosidade           0.139336        -0.029428"
      ]
     },
     "execution_count": 50,
     "metadata": {},
     "output_type": "execute_result"
    }
   ],
   "source": [
    "data[columns_yes[1:]].corr(method='pearson')[['DirecaoVento', 'VelocidadeVento']]"
   ]
  },
  {
   "cell_type": "code",
   "execution_count": null,
   "metadata": {},
   "outputs": [],
   "source": []
  }
 ],
 "metadata": {
  "kernelspec": {
   "display_name": "Python 3",
   "language": "python",
   "name": "python3"
  },
  "language_info": {
   "codemirror_mode": {
    "name": "ipython",
    "version": 3
   },
   "file_extension": ".py",
   "mimetype": "text/x-python",
   "name": "python",
   "nbconvert_exporter": "python",
   "pygments_lexer": "ipython3",
   "version": "3.7.3"
  },
  "toc": {
   "base_numbering": 1,
   "nav_menu": {},
   "number_sections": true,
   "sideBar": true,
   "skip_h1_title": false,
   "title_cell": "Table of Contents",
   "title_sidebar": "Contents",
   "toc_cell": false,
   "toc_position": {},
   "toc_section_display": true,
   "toc_window_display": false
  },
  "varInspector": {
   "cols": {
    "lenName": 16,
    "lenType": 16,
    "lenVar": 40
   },
   "kernels_config": {
    "python": {
     "delete_cmd_postfix": "",
     "delete_cmd_prefix": "del ",
     "library": "var_list.py",
     "varRefreshCmd": "print(var_dic_list())"
    },
    "r": {
     "delete_cmd_postfix": ") ",
     "delete_cmd_prefix": "rm(",
     "library": "var_list.r",
     "varRefreshCmd": "cat(var_dic_list()) "
    }
   },
   "types_to_exclude": [
    "module",
    "function",
    "builtin_function_or_method",
    "instance",
    "_Feature"
   ],
   "window_display": false
  }
 },
 "nbformat": 4,
 "nbformat_minor": 2
}
